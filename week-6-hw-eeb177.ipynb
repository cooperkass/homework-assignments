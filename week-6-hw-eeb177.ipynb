{
 "cells": [
  {
   "cell_type": "markdown",
   "metadata": {},
   "source": [
    "# Part 1: Code Academy Review"
   ]
  },
  {
   "cell_type": "markdown",
   "metadata": {},
   "source": [
    "## Python Syntax Badge\n",
    "\n",
    "![badge1](Python_Syntax_Badge.png)\n",
    "\n",
    "### Didn't realize I needed to sign up for the website before I earned the first badge. So, I signed up and just went back to the last exercise."
   ]
  },
  {
   "cell_type": "markdown",
   "metadata": {},
   "source": [
    "## String & Console Output Badge\n",
    "![badge2](Strings_Console_Output_Badge.png)"
   ]
  },
  {
   "cell_type": "markdown",
   "metadata": {},
   "source": [
    "## Conditionals and Control Flow Badge\n",
    "\n",
    "![badge3](Conditionals_Control_Flow_Badge.png)\n",
    "\n",
    "### Site moved onto next exercise before I could take a screenshot"
   ]
  },
  {
   "cell_type": "markdown",
   "metadata": {},
   "source": [
    "## Functions Badge\n",
    "![badge4](Functions_Badge.png)"
   ]
  },
  {
   "cell_type": "markdown",
   "metadata": {},
   "source": [
    "## Python Lists & Dictionaries Badge\n",
    "![badge5](Python_Lists_Dictionaries_Badge.png)\n",
    "\n",
    "### It didn't give me a badge when I finished..."
   ]
  },
  {
   "cell_type": "markdown",
   "metadata": {},
   "source": [
    "## Lists and Functions Badge\n",
    "![badge6](Lists_Functions_Badge.png)"
   ]
  },
  {
   "cell_type": "markdown",
   "metadata": {},
   "source": [
    "## Loops Badge\n",
    "![badge7](Loops_Badge.png)"
   ]
  },
  {
   "cell_type": "markdown",
   "metadata": {},
   "source": [
    "## Practice Makes Perfect Badge\n",
    "![badge8](Practice_Makes_Perfect_Badge.png)"
   ]
  },
  {
   "cell_type": "markdown",
   "metadata": {
    "collapsed": true
   },
   "source": [
    "# Part 2: Python for Biologists"
   ]
  },
  {
   "cell_type": "markdown",
   "metadata": {},
   "source": [
    "## DNA Translation"
   ]
  },
  {
   "cell_type": "markdown",
   "metadata": {},
   "source": [
    "### Pseudocode\n",
    "#### 1. Split DNA up into codons\n",
    "#### 2. Translate each codon into its respective amino acid\n",
    "#### 3. Add each sequential amino acid onto end of protein"
   ]
  },
  {
   "cell_type": "code",
   "execution_count": 9,
   "metadata": {
    "collapsed": false
   },
   "outputs": [],
   "source": [
    "gencode = {\n",
    "    'ATA':'I', 'ATC':'I', 'ATT':'I', 'ATG':'M',\n",
    "    'ACA':'T', 'ACC':'T', 'ACG':'T', 'ACT':'T',\n",
    "    'AAC':'N', 'AAT':'N', 'AAA':'K', 'AAG':'K',\n",
    "    'AGC':'S', 'AGT':'S', 'AGA':'R', 'AGG':'R',\n",
    "    'CTA':'L', 'CTC':'L', 'CTG':'L', 'CTT':'L',\n",
    "    'CCA':'P', 'CCC':'P', 'CCG':'P', 'CCT':'P',\n",
    "    'CAC':'H', 'CAT':'H', 'CAA':'Q', 'CAG':'Q',\n",
    "    'CGA':'R', 'CGC':'R', 'CGG':'R', 'CGT':'R',\n",
    "    'GTA':'V', 'GTC':'V', 'GTG':'V', 'GTT':'V',\n",
    "    'GCA':'A', 'GCC':'A', 'GCG':'A', 'GCT':'A',\n",
    "    'GAC':'D', 'GAT':'D', 'GAA':'E', 'GAG':'E',\n",
    "    'GGA':'G', 'GGC':'G', 'GGG':'G', 'GGT':'G',\n",
    "    'TCA':'S', 'TCC':'S', 'TCG':'S', 'TCT':'S',\n",
    "    'TTC':'F', 'TTT':'F', 'TTA':'L', 'TTG':'L',\n",
    "    'TAC':'Y', 'TAT':'Y', 'TAA':'_', 'TAG':'_',\n",
    "    'TGC':'C', 'TGT':'C', 'TGA':'_', 'TGG':'W'}\n",
    "def dna_to_protein(dna):\n",
    "    last_codon_start = len(dna) - 2\n",
    "    protein = \"\"\n",
    "    for start in range(0,last_codon_start,3):\n",
    "        codon = dna[start:start+3]\n",
    "        amino_acid = gencode.get(codon, 'X')\n",
    "        protein = protein + amino_acid\n",
    "    return protein"
   ]
  },
  {
   "cell_type": "code",
   "execution_count": 10,
   "metadata": {
    "collapsed": false,
    "scrolled": true
   },
   "outputs": [
    {
     "name": "stdout",
     "output_type": "stream",
     "text": [
      "MPL\n"
     ]
    }
   ],
   "source": [
    "print(dna_to_protein(\"ATGCCGTTG\"))"
   ]
  },
  {
   "cell_type": "markdown",
   "metadata": {},
   "source": [
    "# Part 3: Allesina and Wilmes"
   ]
  },
  {
   "cell_type": "markdown",
   "metadata": {},
   "source": [
    "## 1. 4.3.2 Program Structure\n",
    "### Simulation Program"
   ]
  },
  {
   "cell_type": "code",
   "execution_count": 20,
   "metadata": {
    "collapsed": false
   },
   "outputs": [],
   "source": [
    "import scipy # for random numbers\n",
    "\n",
    "def build_population(N, p):\n",
    "    \"\"\"The population consists of N individuals.\n",
    "Each individual has two chromosomes, containing\n",
    "allele \"A\" or \"a\", with probability p and 1-p,\n",
    "respectively.The population is a list of tuples.\"\"\"\n",
    "    population = []\n",
    "    for i in range(N):\n",
    "        allele1 = \"A\"\n",
    "        if scipy.random.rand() > p:\n",
    "            allele1 = \"a\"\n",
    "        allele2 = \"A\"\n",
    "        if scipy.random.rand() > p:\n",
    "            allele2 = \"a\"\n",
    "        population.append((allele1, allele2))\n",
    "    return population\n",
    "\n",
    "def compute_frequencies(population):\n",
    "    \"\"\" Count the genotypes.Returns a dictionary with counts for each genotype.\"\"\"\n",
    "    AA = population.count(('A', 'A'))\n",
    "    Aa = population.count(('A', 'a'))\n",
    "    aA = population.count(('a', 'A'))\n",
    "    aa = population.count(('a', 'a'))\n",
    "    return({'AA': AA, 'aa': aa, 'Aa': Aa, 'aA': aA})\n",
    "\n",
    "def reproduce_population(population):\n",
    "    \"\"\" Create a new generation through sexual reproduction\n",
    "    For each of N new offspring:\n",
    "    - Choose the parents at random\n",
    "    - The offspring receives a chromosomes from each of\n",
    "    the parents\"\"\"\n",
    "    new_generation = []\n",
    "    N = len(population)\n",
    "    for i in range(N):\n",
    "        dad = scipy.random.randint(N) # random integer between 0 and N-1\n",
    "        mom = scipy.random.randint(N)\n",
    "        chr_mom = scipy.random.randint(2) # which chromosome comes from mom\n",
    "        offspring = (population[mom][chr_mom], population[dad][1 - chr_mom])\n",
    "        new_generation.append(offspring)\n",
    "    return(new_generation)"
   ]
  },
  {
   "cell_type": "code",
   "execution_count": 21,
   "metadata": {
    "collapsed": false
   },
   "outputs": [
    {
     "name": "stdout",
     "output_type": "stream",
     "text": [
      "[('A', 'A'), ('A', 'a'), ('A', 'a'), ('a', 'A'), ('A', 'a'), ('A', 'A'), ('A', 'A'), ('A', 'A'), ('A', 'A'), ('A', 'a')]\n"
     ]
    },
    {
     "data": {
      "text/plain": [
       "[('A', 'A'),\n",
       " ('A', 'a'),\n",
       " ('A', 'A'),\n",
       " ('A', 'A'),\n",
       " ('A', 'a'),\n",
       " ('A', 'a'),\n",
       " ('A', 'a'),\n",
       " ('A', 'A'),\n",
       " ('a', 'a'),\n",
       " ('A', 'a')]"
      ]
     },
     "execution_count": 21,
     "metadata": {},
     "output_type": "execute_result"
    }
   ],
   "source": [
    "my_pop = build_population(10,0.7)\n",
    "print(my_pop)\n",
    "compute_frequencies(my_pop)\n",
    "reproduce_population(my_pop)"
   ]
  },
  {
   "cell_type": "markdown",
   "metadata": {},
   "source": [
    "#### The text only describes how to write the main program containing these functions by starting a new notebook..."
   ]
  },
  {
   "cell_type": "markdown",
   "metadata": {},
   "source": [
    "## 2. Question 4.9.1 Part 1"
   ]
  },
  {
   "cell_type": "code",
   "execution_count": 41,
   "metadata": {
    "collapsed": false
   },
   "outputs": [
    {
     "name": "stdout",
     "output_type": "stream",
     "text": [
      "['Fish,-0.11\\n', 'Fish,0.38\\n', 'Fish,0.51\\n', 'Amphibian,0.868\\n', 'Amphibian,0.297\\n', 'Amphibian,0.084\\n', 'Amphibian,0.121\\n', 'Amphibian,0.114\\n', 'Amphibian,0.021\\n', 'Amphibian,0.704\\n', 'Amphibian,0.28\\n', 'Amphibian,0.515\\n', 'Amphibian,0.112\\n', 'Amphibian,0.329\\n', 'Amphibian,0.132\\n', 'Amphibian,0.417\\n', 'Amphibian,-0.152\\n', 'Chelicerate,0.473\\n', 'Chelicerate,0.415\\n', 'Chelicerate,0.685\\n', 'Chelicerate,0.558\\n', 'Chelicerate,0.471\\n', 'Chelicerate,0.303\\n', 'Chelicerate,0.689\\n', 'Chelicerate,0.284\\n', 'Bird,0.38\\n', 'Crustacean,0.864\\n', 'Amphibian,0.41\\n', 'Amphibian,0.22\\n', 'Bird,0.51\\n', 'Fish,0.469\\n', 'Gastropod,0.245\\n', 'Crustacean,-0.11\\n', 'Crustacean,0.74\\n', 'Crustacean,0.42\\n', 'Crustacean,0.56\\n', 'Crustacean,0.32\\n', 'Crustacean,0.82\\n', 'Crustacean,0.44\\n', 'Crustacean,0.75\\n', 'Crustacean,0.73\\n', 'Crustacean,0.85\\n', 'Crustacean,0.52\\n', 'Crustacean,0.61\\n', 'Crustacean,0.16\\n', 'Crustacean,0.59\\n', 'Crustacean,0.4123105626\\n', 'Crustacean,0.6633249581\\n', 'Crustacean,0.5099019514\\n', 'Crustacean,0.7141428429\\n', 'Crustacean,0.55\\n', 'Crustacean,0.15\\n', 'Crustacean,0.18\\n', 'Crustacean,0.32\\n', 'Crustacean,0.62\\n', 'Crustacean,0\\n', 'Crustacean,-0.15\\n', 'Crustacean,0.37\\n', 'Crustacean,0.27\\n', 'Crustacean,0.57\\n', 'Crustacean,0.315\\n', 'Crustacean,0.302\\n', 'Bird,0.387\\n', 'Bird,-0.081\\n', 'Bird,0.219\\n', 'Bird,0.388\\n', 'Bird,0.5\\n', 'Amphibian,-0.49\\n', 'Amphibian,0.18\\n', 'Amphibian,-0.098\\n', 'Amphibian,0.57\\n', 'Amphibian,0.39\\n', 'Amphibian,0.46\\n', 'Amphibian,0.49\\n', 'Amphibian,0.11\\n', 'Amphibian,0.34\\n', 'Amphibian,0.64\\n', 'Amphibian,-0.06\\n', 'Amphibian,0.48\\n', 'Amphibian,0.13\\n', 'Amphibian,0.14\\n', 'Amphibian,0.25\\n', 'Amphibian,-0.15\\n', 'Amphibian,-0.32\\n', 'Amphibian,-0.05\\n', 'Amphibian,0.32\\n', 'Amphibian,0.35\\n', 'Amphibian,0.18\\n', 'Amphibian,0.567\\n', 'Amphibian,0.028\\n', 'Amphibian,0.121\\n', 'Amphibian,0.09\\n', 'Amphibian,0.59\\n', 'Amphibian,0.35\\n', 'Amphibian,-0.23\\n', 'Amphibian,0.32\\n', 'Amphibian,0.11\\n', ',size\\n', ',size\\n', ',size\\n', ',size\\n', ',size\\n', ',size\\n', ',size\\n', ',size\\n', 'Amphibian,-0.46\\n', 'Amphibian,0.13\\n', 'Amphibian,0.097\\n', 'Amphibian,0.3\\n', 'Amphibian,0.39\\n', 'Amphibian,-0.13\\n', 'Amphibian,-0.68\\n', 'Amphibian,0.12\\n', 'Amphibian,-0.06\\n', 'Amphibian,0.02\\n', 'Amphibian,0.23\\n', 'Amphibian,0.07\\n', 'Amphibian,0.13\\n', 'Amphibian,0.33\\n', 'Gastropod,0.082\\n', 'Crustacean,0.5\\n', 'Crustacean,0.31\\n', 'Crustacean,0.56\\n', 'Crustacean,0.27\\n', 'Bird,-0.2\\n', 'Bird,0.22\\n', 'Bird,0.2\\n', 'Fish,0.69\\n', 'Fish,0.25\\n', 'Reptile,0\\n', 'Reptile,0.28\\n', 'Reptile,-0.4\\n', 'Bird,0.39\\n', 'Insect,0.331\\n', 'Crustacean,0.46\\n', 'Crustacean,-0.94\\n', 'Crustacean,0.61\\n', 'Crustacean,0.4\\n', 'Crustacean,0.26\\n', 'Crustacean,0.1\\n', 'Crustacean,0.07\\n', 'Crustacean,0.78\\n', 'Crustacean,0.14\\n', 'Bird,-0.03\\n', 'Insect,-0.311\\n', 'Insect,-0.275\\n', 'Crustacean,0.36\\n', 'Crustacean,0.33\\n', 'Insect,0.323\\n', 'Insect,0.109\\n', 'Bird,0.16\\n', 'Bird,0.37\\n', 'Bird,0.42\\n', 'Bird,0.131\\n', 'Insect,0.666\\n', 'Insect,0.49\\n', 'Insect,0.6\\n', 'Crustacean,0.914\\n', 'Crustacean,0.5\\n', 'Crustacean,0.51\\n', 'Insect,0.01\\n', 'Insect,0.37\\n', 'Insect,0.41\\n', 'Insect,0.05\\n', 'Insect,-0.06\\n', 'Insect,-0.06\\n', 'Insect,0.14\\n', 'Insect,-0.05\\n', 'Insect,-0.03\\n', 'Insect,0.02\\n', 'Insect,0.085\\n', 'Crustacean,0.25\\n', 'Crustacean,0.35\\n', 'Crustacean,0.37\\n', 'Crustacean,0.44\\n', 'Crustacean,0.5\\n', 'Crustacean,0.53\\n', 'Crustacean,0.2\\n', 'Crustacean,0.7\\n', 'Crustacean,0.1\\n', 'Crustacean,0.5\\n', 'Crustacean,0.479\\n', 'Insect,0.72\\n', 'Fish,0.596\\n', 'Fish,0.73\\n', 'Annelids,0.2\\n', 'Bird,0.2449489743\\n', 'Insect,0.256\\n', 'Bird,0.1325\\n', 'Bird,-0.0401\\n', 'Bird,0.074\\n', 'Bird,-0.168\\n', 'Bird,0.116\\n', 'Bird,-0.227\\n', 'Bird,0.05\\n', 'Crustacean,0.434\\n', 'Crustacean,0.47\\n', 'Crustacean,0.02\\n', 'Crustacean,-0.089\\n', 'Crustacean,0.06\\n', 'Crustacean,0.467\\n', 'Crustacean,0.12\\n', 'Crustacean,0.57\\n', 'Crustacean,0.558\\n', 'Crustacean,0.422\\n', 'Crustacean,0.413\\n', 'Crustacean,0.85\\n', 'Crustacean,0.23\\n', 'Crustacean,0.136\\n', 'Crustacean,0.631\\n', 'Crustacean,-0.303\\n', 'Crustacean,0.771\\n', 'Crustacean,0.52\\n', 'Crustacean,0.287\\n', 'Crustacean,0.618\\n', 'Crustacean,0.431\\n', 'Crustacean,0.382\\n', 'Crustacean,0.529\\n', 'Crustacean,0.302\\n', 'Crustacean,0.302\\n', 'Crustacean,0.13\\n', 'Crustacean,0.124\\n', 'Crustacean,0.32\\n', 'Crustacean,0.28\\n', 'Crustacean,0.56\\n', 'Crustacean,0.388\\n', 'Crustacean,0.355\\n', 'Crustacean,0.283\\n', 'Crustacean,0.458\\n', 'Crustacean,0.508\\n', 'Crustacean,0.47\\n', 'Crustacean,0.29\\n', ',size\\n', ',size\\n', ',size\\n', 'Crustacean,0.392\\n', 'Crustacean,0.316\\n', 'Crustacean,0.379\\n', 'Crustacean,0.539\\n', 'Fish,0.281699909\\n', 'Bird,0.14\\n', 'Bird,-0.15\\n', 'Bird,0.16\\n', 'Bird,0.16\\n', 'Bird,0.123\\n', 'Bird,0.24\\n', 'Bird,-0.47\\n', 'Bird,-0.39\\n', 'Protist,0.7941\\n', 'Protist,0.7249\\n', 'Crustacean,0.69\\n', 'Insect,-0.134\\n', 'Insect,0.168\\n', 'Insect,0.035\\n', 'Insect,0.262\\n', 'Insect,-0.142\\n', 'Insect,0.291\\n', 'Insect,0.332\\n', 'Insect,0.0074\\n', 'Insect,0.47\\n', 'Protist,0.5882\\n', 'Protist,0.5327\\n', 'Insect,0.516\\n', 'Insect,0.482\\n', 'Protist,0.4302\\n', 'Insect,0.398\\n', 'Insect,0.364\\n', 'Insect,0.287\\n', 'Insect,0.279\\n', 'Insect,0.254\\n', 'Insect,0.233\\n', 'Insect,0.231\\n', 'Insect,0.226\\n', 'Insect,0.199\\n', 'Insect,0.178\\n', 'Insect,0.162\\n', 'Insect,0.153\\n', 'Insect,0.141\\n', 'Insect,0.122\\n', 'Insect,0.122\\n', 'Insect,0.095\\n', 'Insect,0.088\\n', 'Insect,0.07\\n', 'Insect,0.048\\n', 'Insect,0.047\\n', 'Insect,0.214\\n', 'Insect,0.15\\n', 'Bird,0.09\\n', 'Bird,0.21\\n', 'Gastropod,0.19\\n', 'Fish,0.63\\n', 'Fish,0.47\\n', 'Fish,0.52\\n', 'Crustacean,-0.043\\n', 'Crustacean,-0.104\\n', 'Crustacean,0.42\\n', 'Crustacean,0.52\\n', 'Amphibian,-0.362\\n', 'Amphibian,-0.254\\n', 'Amphibian,0.027\\n', 'Amphibian,-0.173\\n', 'Amphibian,-0.131\\n', 'Amphibian,0.18\\n', 'Amphibian,0.15\\n', 'Amphibian,0.02\\n', 'Amphibian,0.28\\n', 'Amphibian,0.17\\n', 'Amphibian,0.07\\n', 'Amphibian,0.3605551275\\n', 'Amphibian,0.136\\n', 'Amphibian,0.415\\n', 'Amphibian,0.189\\n', 'Amphibian,0.25\\n', 'Amphibian,0.212\\n', 'Amphibian,0.763\\n', 'Amphibian,0.081\\n', 'Amphibian,0.27\\n', 'Crustacean,0.32\\n', 'Crustacean,-0.17\\n', 'Crustacean,0.99\\n', 'Insect,0.049\\n', 'Crustacean,0.09\\n', 'Crustacean,0.37\\n', 'Crustacean,0.5\\n', 'Crustacean,0.58\\n', 'Crustacean,0.62\\n', 'Crustacean,0.52\\n', 'Crustacean,0.32\\n', 'Crustacean,0.34\\n', 'Crustacean,0.55\\n', 'Crustacean,0.79\\n', 'Crustacean,0.09\\n', 'Crustacean,0.017\\n', 'Crustacean,0.317\\n', 'Crustacean,0.586\\n', 'Crustacean,0.336\\n', 'Crustacean,0.547\\n', 'Crustacean,0.386\\n', 'Crustacean,0.134\\n', 'Fish,0.77\\n', 'Fish,0.93\\n', 'Reptile,0.37\\n', 'Reptile,0.26\\n', 'Reptile,0.07\\n', 'Bird,0.33\\n', 'Crustacean,0.8246211251\\n', 'islandica,size\\n', 'Crustacean,0.0316227766\\n', 'Crustacean,0.228035085\\n', 'Crustacean,0.0316227766\\n', 'Gastropod,0.39\\n', 'Gastropod,0.079\\n', 'Gastropod,0.361\\n', 'Bird,0.29\\n', 'Bird,-0.37\\n', 'Bird,0.65\\n', 'Insect,0.75\\n', 'Insect,0.51\\n', 'Insect,0.47\\n', 'Insect,0.4\\n', 'Insect,0.43\\n', 'Insect,0.48\\n', 'Insect,0.65\\n', 'Insect,0.47\\n', 'Crustacean,0.667\\n', 'Insect,0.02\\n', 'Insect,0.05\\n', 'Bird,0.09\\n', 'Bird,0.7\\n', 'Insect,0.499\\n', 'Insect,1\\n', 'Gastropod,0.353\\n', 'Amphibian,0.7549834435\\n', 'Fish,0\\n', 'Fish,0\\n', 'Fish,0\\n', 'Fish,0.1673320053\\n', 'Fish,0\\n', 'Fish,0.071\\n', 'Fish,0.197\\n', 'Fish,0.179\\n', 'Fish,0.000\\n', 'Fish,0.184\\n', 'Fish,0.000\\n', 'Fish,0.148\\n', 'Fish,0.170\\n', 'Insect,0.2049390153\\n', 'Insect,0.0447213595\\n', 'Insect,0.4171330723\\n', 'Crustacean,0.93\\n', 'Crustacean,0.633\\n', 'Crustacean,0.27\\n', 'Crustacean,0.9090454534\\n', 'Crustacean,0.2236067977\\n', 'Crustacean,0.5949789912\\n', 'Insect,0.047\\n', 'Insect,0.045\\n', 'Insect,0.015\\n', 'Insect,0.01\\n', 'Insect,-0.026\\n', 'Bird,-0.29\\n', 'Insect,-0.049\\n', 'Insect,-0.095\\n', 'Insect,-0.1\\n', 'Insect,-0.156\\n', 'Insect,-0.16\\n', 'Insect,-0.189\\n', 'Insect,-0.2\\n', 'Amphibian,0.18\\n', 'Insect,0.3605\\n', 'Insect,0.17321\\n', 'Mammal,0.009\\n', 'Chelicerate,0.5422176685\\n', 'Insect,-0.08\\n', 'Amphibian,-0.08\\n', 'Amphibian,0.05\\n', 'Insect,0.208\\n', 'Insect,0.0715\\n', 'Insect,0.262\\n', 'Insect,0.57\\n', 'Insect,0.52\\n', 'Insect,0.22\\n', 'Insect,0.23\\n', 'Insect,0.1\\n', 'Insect,0.1\\n', 'Amphibian,0.22\\n', 'Amphibian,-0.1\\n', 'Insect,0.36\\n', 'Insect,0.22\\n', 'Insect,0.35\\n', 'Fish,0.342\\n', 'Crustacean,0.36\\n', 'Fish,0.77\\n', 'Bird,0.034\\n', 'Amphibian,0.73\\n', 'Amphibian,0.44\\n', 'Amphibian,0.56\\n', 'Amphibian,0.26\\n', 'Amphibian,0.39\\n', 'Amphibian,0.5\\n', 'Amphibian,-0.218\\n', 'Amphibian,0.071\\n', 'Amphibian,-0.257\\n', 'Amphibian,0.18\\n', 'Amphibian,0.34\\n', 'Amphibian,0.21\\n', 'Amphibian,0.17\\n', 'Amphibian,0.46\\n', 'Amphibian,0.06\\n', 'Amphibian,0.4\\n', 'Amphibian,0.22\\n', 'Amphibian,0.28\\n', 'Amphibian,0.09\\n', 'Amphibian,0.143\\n', 'Amphibian,0.336\\n', 'Amphibian,-0.123\\n', 'Amphibian,0.072\\n', 'Amphibian,-0.432\\n', 'Amphibian,-0.3\\n', 'Amphibian,-0.003\\n', 'Amphibian,0.123\\n', 'Amphibian,-0.404\\n', 'Amphibian,-0.427\\n', 'Amphibian,0.838\\n', 'Amphibian,-0.235\\n', 'Amphibian,-0.385\\n', 'Amphibian,-0.172\\n', 'Amphibian,0.075\\n', 'Amphibian,0.377\\n', 'Amphibian,0.49\\n', 'Bird,0.28\\n', 'Fish,0.37\\n', 'Fish,0.636\\n', 'Fish,0.765\\n', 'Amphibian,0.269\\n', 'Amphibian,0.286\\n', 'Amphibian,0.143\\n', 'Amphibian,0.2\\n', 'Amphibian,0.526\\n', 'Insect,0.013\\n', 'Insect,0.144\\n', 'Insect,0.171\\n', 'Insect,0.252\\n', 'Amphibian,0.549\\n', 'Amphibian,0.07\\n', 'Fish,0.74\\n', 'Gastropod,0.75\\n', 'Gastropod,0.79\\n', 'Gastropod,0.77\\n', 'Bird,0.32\\n', 'Bird,0.18\\n', 'Bird,0.28\\n', 'lonnbergi,size\\n', 'Bird,-0.046\\n', 'Bird,0.151\\n', 'Bird,0.263\\n', 'Bird,0.19\\n', 'Amphibian,-0.16\\n', 'Amphibian,-0.06\\n', 'Insect,0.04\\n', 'Crustacean,0.325\\n', 'Insect,0.46\\n', 'Insect,0.08\\n', 'parietalis,size\\n', 'parietalis,size\\n', 'Crustacean,0.709\\n', 'Insect,0.04\\n', 'Crustacean,0.54\\n', 'Crustacean,0.57\\n', 'Amphibian,0.55\\n', 'Insect,0.25\\n', 'Crustacean,0.511\\n', 'Crustacean,0.39\\n', 'Crustacean,0.65\\n', 'Amphibian,0.97\\n', 'Amphibian,0.97\\n', 'Amphibian,0.84\\n', 'Fish,0.83\\n', ',size\\n', 'Fish,0.64\\n', 'Fish,0.6\\n', '\\n']\n"
     ]
    }
   ],
   "source": [
    "import numpy\n",
    "jiang_data = open(\"taxon_r_Jiang.csv\", \"r\")\n",
    "jiang_list = jiang_data.readlines()\n",
    "print(jiang_list) ## need to remove \\n's...\n",
    "\n",
    "jiang_dict = {}\n",
    "# make jiang dictionary with taxon as key and taxon mean r as value\n",
    "        \n",
    "##def r_mean(taxon):\n",
    "    #for taxon in jiang_dict:\n",
    "        #return mean of r values\n",
    "            #### somehow calculate mean of r values..."
   ]
  }
 ],
 "metadata": {
  "anaconda-cloud": {},
  "kernelspec": {
   "display_name": "Python [default]",
   "language": "python",
   "name": "python3"
  },
  "language_info": {
   "codemirror_mode": {
    "name": "ipython",
    "version": 3
   },
   "file_extension": ".py",
   "mimetype": "text/x-python",
   "name": "python",
   "nbconvert_exporter": "python",
   "pygments_lexer": "ipython3",
   "version": "3.5.2"
  }
 },
 "nbformat": 4,
 "nbformat_minor": 2
}
