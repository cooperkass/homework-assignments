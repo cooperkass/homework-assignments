{
 "cells": [
  {
   "cell_type": "markdown",
   "metadata": {},
   "source": [
    "# Introduction\n",
    "### My favorite fish species are Squatina africana, Kneria wittei, Apistus carinatus, and Xiphias gladius.  I wrote a script to download the species pages for each of these fish, parse the HTML, and write out the following markdown document:\n",
    "\n",
    "# My favorite fish\n",
    "## Squatina africana\n",
    "Family: Squatinidae\n",
    "\n",
    "Fisheries: subsistence fisheries\n",
    "\n",
    "## Kneria wittei\n",
    "Family: Kneriidae\n",
    "\n",
    "Fisheries: subsistence fisheries \n",
    "\n",
    "## Apistus carinatus\n",
    "Family: Apistidae\n",
    "\n",
    "Fisheries: minor commercial\n",
    "\n",
    "## Xiphias gladius\n",
    "Family: Xiphias gladius\n",
    "\n",
    "Fisheries: commercial"
   ]
  },
  {
   "cell_type": "code",
   "execution_count": null,
   "metadata": {
    "collapsed": true
   },
   "outputs": [],
   "source": []
  }
 ],
 "metadata": {
  "anaconda-cloud": {},
  "kernelspec": {
   "display_name": "Python [default]",
   "language": "python",
   "name": "python3"
  },
  "language_info": {
   "codemirror_mode": {
    "name": "ipython",
    "version": 3
   },
   "file_extension": ".py",
   "mimetype": "text/x-python",
   "name": "python",
   "nbconvert_exporter": "python",
   "pygments_lexer": "ipython3",
   "version": "3.5.2"
  }
 },
 "nbformat": 4,
 "nbformat_minor": 2
}
