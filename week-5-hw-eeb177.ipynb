{
 "cells": [
  {
   "cell_type": "markdown",
   "metadata": {},
   "source": [
    "# Part 1: In class challenge"
   ]
  },
  {
   "cell_type": "markdown",
   "metadata": {},
   "source": [
    "## 1. How many families are in this file?\n",
    "### There are 194 families in this file.\n",
    "in shell: tail -n +4 formatted.nature.csv | cut -d \",\" -f 3 | sort | uniq | wc -l\n",
    "\n",
    "## 2. Which family has the most species represented?\n",
    "### 102 Trochilidae species\n",
    "in shell: tail -n +4 formatted.nature.csv | cut -d \",\" -f 3 | sort | uniq -c | sort -n\n",
    "\n",
    "## 3. How many families have only a single species in them?\n",
    "### 60 families have only a single species in them\n",
    "in shell: tail -n +4 formatted.nature.csv | cut -d \",\" -f 3 | sort | uniq -c | sort -n | grep -w 1 | wc -l\n",
    "\n",
    "## 4. How many families are present in the eBird data?\n",
    "\n",
    "\n",
    "\n",
    "## 5. How many species are in each family of the eBird data?"
   ]
  },
  {
   "cell_type": "markdown",
   "metadata": {},
   "source": [
    "# Part 2: Bird data in python"
   ]
  },
  {
   "cell_type": "code",
   "execution_count": 13,
   "metadata": {
    "collapsed": false
   },
   "outputs": [
    {
     "ename": "SyntaxError",
     "evalue": "unexpected EOF while parsing (<ipython-input-13-3544d3c73c25>, line 9)",
     "output_type": "error",
     "traceback": [
      "\u001b[0;36m  File \u001b[0;32m\"<ipython-input-13-3544d3c73c25>\"\u001b[0;36m, line \u001b[0;32m9\u001b[0m\n\u001b[0;31m    \u001b[0m\n\u001b[0m    ^\u001b[0m\n\u001b[0;31mSyntaxError\u001b[0m\u001b[0;31m:\u001b[0m unexpected EOF while parsing\n"
     ]
    }
   ],
   "source": [
    "# read in the file\n",
    "in_file1 = open(\"/home/eeb177-student/Desktop/eeb-177/lab-work/exercise-6/formatted_nature21074-f1.csv\", encoding = \"ISO-8859.15\")\n",
    "in_file1.readline()\n",
    "\n",
    "my_dict = {}\n",
    "\n",
    "for line in in_file1:\n",
    "    \n",
    "    "
   ]
  },
  {
   "cell_type": "markdown",
   "metadata": {},
   "source": [
    "# Part 3: Python for biologists chapter 5 exercises"
   ]
  },
  {
   "cell_type": "markdown",
   "metadata": {},
   "source": [
    "## Percentage of amino acid residues, part one"
   ]
  },
  {
   "cell_type": "code",
   "execution_count": 8,
   "metadata": {
    "collapsed": false
   },
   "outputs": [
    {
     "data": {
      "text/plain": [
       "5.0"
      ]
     },
     "execution_count": 8,
     "metadata": {},
     "output_type": "execute_result"
    }
   ],
   "source": [
    "def amino_acid_percentage(protein, residue):\n",
    "    protein = protein.upper()\n",
    "    residue = residue.upper()\n",
    "    length = len(protein)\n",
    "    residue_count = protein.count(residue)\n",
    "    return (residue_count/length)*100\n",
    "\n",
    "assert amino_acid_percentage(\"MSRSLLLRFLLFLLLLPPLP\", \"M\") == 5\n",
    "assert amino_acid_percentage(\"MSRSLLLRFLLFLLLLPPLP\", \"r\") == 10\n",
    "assert amino_acid_percentage(\"msrslllrfllfllllpplp\", \"L\") == 50\n",
    "assert amino_acid_percentage(\"MSRSLLLRFLLFLLLLPPLP\", \"Y\") == 0\n",
    "\n",
    "amino_acid_percentage(\"MSRSLLLRFLLFLLLLPPLP\", \"M\")"
   ]
  },
  {
   "cell_type": "markdown",
   "metadata": {},
   "source": [
    "## Percentage of amino acid residues, part two"
   ]
  },
  {
   "cell_type": "code",
   "execution_count": 23,
   "metadata": {
    "collapsed": false
   },
   "outputs": [
    {
     "data": {
      "text/plain": [
       "5.0"
      ]
     },
     "execution_count": 23,
     "metadata": {},
     "output_type": "execute_result"
    }
   ],
   "source": [
    "def get_aa_percentage(protein, residue_list=['A','I','L','M','F','W','Y','V']):\n",
    "    protein = protein.upper()\n",
    "    length = len(protein)\n",
    "    total = 0\n",
    "    for aa in residue_list:\n",
    "        aa = aa.upper()\n",
    "        aa_count = protein.count(aa)\n",
    "        total = total + aa_count\n",
    "    percentage = total * 100 / length\n",
    "    return percentage\n",
    "assert get_aa_percentage(\"MSRSLLLRFLLFLLLLPPLP\",[\"M\"]) == 5\n",
    "assert get_aa_percentage(\"MSRSLLLRFLLFLLLLPPLP\",['M', 'L']) == 55\n",
    "assert get_aa_percentage(\"MSRSLLLRFLLFLLLLPPLP\",['F', 'S', 'L']) == 70\n",
    "assert get_aa_percentage(\"MSRSLLLRFLLFLLLLPPLP\") == 65\n",
    "\n",
    "get_aa_percentage(\"MSRSLLLRFLLFLLLLPPLP\",[\"M\"])"
   ]
  },
  {
   "cell_type": "code",
   "execution_count": null,
   "metadata": {
    "collapsed": true
   },
   "outputs": [],
   "source": []
  }
 ],
 "metadata": {
  "anaconda-cloud": {},
  "kernelspec": {
   "display_name": "Python [default]",
   "language": "python",
   "name": "python3"
  },
  "language_info": {
   "codemirror_mode": {
    "name": "ipython",
    "version": 3
   },
   "file_extension": ".py",
   "mimetype": "text/x-python",
   "name": "python",
   "nbconvert_exporter": "python",
   "pygments_lexer": "ipython3",
   "version": "3.5.2"
  }
 },
 "nbformat": 4,
 "nbformat_minor": 2
}
