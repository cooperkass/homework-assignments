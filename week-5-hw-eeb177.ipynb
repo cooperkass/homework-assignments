{
 "cells": [
  {
   "cell_type": "markdown",
   "metadata": {},
   "source": [
    "# Part 1: In class challenge"
   ]
  },
  {
   "cell_type": "code",
   "execution_count": null,
   "metadata": {
    "collapsed": true
   },
   "outputs": [],
   "source": []
  },
  {
   "cell_type": "markdown",
   "metadata": {},
   "source": [
    "# Part 2: Bird data in python"
   ]
  },
  {
   "cell_type": "code",
   "execution_count": null,
   "metadata": {
    "collapsed": true
   },
   "outputs": [],
   "source": []
  },
  {
   "cell_type": "markdown",
   "metadata": {},
   "source": [
    "# Part 3: Python for biologists chapter 5 exercises"
   ]
  },
  {
   "cell_type": "markdown",
   "metadata": {},
   "source": [
    "## Percentage of amino acid residues, part one"
   ]
  },
  {
   "cell_type": "code",
   "execution_count": 8,
   "metadata": {
    "collapsed": false
   },
   "outputs": [
    {
     "data": {
      "text/plain": [
       "5.0"
      ]
     },
     "execution_count": 8,
     "metadata": {},
     "output_type": "execute_result"
    }
   ],
   "source": [
    "def amino_acid_percentage(protein, residue):\n",
    "    protein = protein.upper()\n",
    "    residue = residue.upper()\n",
    "    length = len(protein)\n",
    "    residue_count = protein.count(residue)\n",
    "    return (residue_count/length)*100\n",
    "\n",
    "assert amino_acid_percentage(\"MSRSLLLRFLLFLLLLPPLP\", \"M\") == 5\n",
    "assert amino_acid_percentage(\"MSRSLLLRFLLFLLLLPPLP\", \"r\") == 10\n",
    "assert amino_acid_percentage(\"msrslllrfllfllllpplp\", \"L\") == 50\n",
    "assert amino_acid_percentage(\"MSRSLLLRFLLFLLLLPPLP\", \"Y\") == 0\n",
    "\n",
    "amino_acid_percentage(\"MSRSLLLRFLLFLLLLPPLP\", \"M\")"
   ]
  },
  {
   "cell_type": "markdown",
   "metadata": {},
   "source": [
    "## Percentage of amino acid residues, part two"
   ]
  },
  {
   "cell_type": "code",
   "execution_count": 23,
   "metadata": {
    "collapsed": false
   },
   "outputs": [
    {
     "data": {
      "text/plain": [
       "5.0"
      ]
     },
     "execution_count": 23,
     "metadata": {},
     "output_type": "execute_result"
    }
   ],
   "source": [
    "def get_aa_percentage(protein, residue_list=['A','I','L','M','F','W','Y','V']):\n",
    "    protein = protein.upper()\n",
    "    length = len(protein)\n",
    "    total = 0\n",
    "    for aa in residue_list:\n",
    "        aa = aa.upper()\n",
    "        aa_count = protein.count(aa)\n",
    "        total = total + aa_count\n",
    "    percentage = total * 100 / length\n",
    "    return percentage\n",
    "assert get_aa_percentage(\"MSRSLLLRFLLFLLLLPPLP\",[\"M\"]) == 5\n",
    "assert get_aa_percentage(\"MSRSLLLRFLLFLLLLPPLP\",['M', 'L']) == 55\n",
    "assert get_aa_percentage(\"MSRSLLLRFLLFLLLLPPLP\",['F', 'S', 'L']) == 70\n",
    "assert get_aa_percentage(\"MSRSLLLRFLLFLLLLPPLP\") == 65\n",
    "\n",
    "get_aa_percentage(\"MSRSLLLRFLLFLLLLPPLP\",[\"M\"])"
   ]
  },
  {
   "cell_type": "code",
   "execution_count": null,
   "metadata": {
    "collapsed": true
   },
   "outputs": [],
   "source": []
  }
 ],
 "metadata": {
  "anaconda-cloud": {},
  "kernelspec": {
   "display_name": "Python [default]",
   "language": "python",
   "name": "python3"
  },
  "language_info": {
   "codemirror_mode": {
    "name": "ipython",
    "version": 3
   },
   "file_extension": ".py",
   "mimetype": "text/x-python",
   "name": "python",
   "nbconvert_exporter": "python",
   "pygments_lexer": "ipython3",
   "version": "3.5.2"
  }
 },
 "nbformat": 4,
 "nbformat_minor": 2
}
