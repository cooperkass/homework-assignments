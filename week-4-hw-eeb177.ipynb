{
 "cells": [
  {
   "cell_type": "code",
   "execution_count": 14,
   "metadata": {
    "collapsed": false
   },
   "outputs": [
    {
     "name": "stdout",
     "output_type": "stream",
     "text": [
      "TGACTAGCTAATGCATATCATAAACGATAGTATGTATATATAGCTACGCAAGTA\n"
     ]
    }
   ],
   "source": [
    "##Part 1\n",
    "##Complementing DNA\n",
    "sequence = \"ACTGATCGATTACGTATAGTATTTGCTATCATACATATATATCGATGCGTTCAT\"\n",
    "replacement_1 = sequence.replace(\"A\",\"t\")\n",
    "replacement_2 = replacement_1.replace(\"T\",\"A\")\n",
    "replacement_3 = replacement_2.replace(\"C\",\"g\")\n",
    "replacement_4 = replacement_3.replace(\"G\",\"C\")\n",
    "complement = replacement_4.upper()\n",
    "print(complement)\n",
    "\n",
    "                                     "
   ]
  },
  {
   "cell_type": "code",
   "execution_count": 23,
   "metadata": {
    "collapsed": false
   },
   "outputs": [
    {
     "name": "stdout",
     "output_type": "stream",
     "text": [
      "the size of fragment 1 is 22\n",
      "the size of fragment 2 is 33\n"
     ]
    }
   ],
   "source": [
    "##Restriction Fragment Lengths\n",
    "sequence = \"ACTGATCGATTACGTATAGTAGAATTCTATCATACATATATATCGATGCGTTCAT\"\n",
    "fragment_1 = sequence.find(\"GAATTCT\") + 1\n",
    "print(\"the size of fragment 1 is \" + str(fragment_1))\n",
    "fragment_2 = len(sequence) - fragment_1\n",
    "print(\"the size of fragment 2 is \" + str(fragment_2))"
   ]
  },
  {
   "cell_type": "code",
   "execution_count": 26,
   "metadata": {
    "collapsed": false
   },
   "outputs": [
    {
     "name": "stdout",
     "output_type": "stream",
     "text": [
      "ATCGATCGATCGATCGACTGACTAGTCATAGCTATGCATGTAGCTACTCGATCGATCGATCGATTCATCGATCGATATCGATGCATCGACTACTAT\n"
     ]
    }
   ],
   "source": [
    "##Splicing Out Introns, part one\n",
    "sequence = \"ATCGATCGATCGATCGACTGACTAGTCATAGCTATGCATGTAGCTACTCGATCGATCGATCGATCGATCGATCGATCGATCGATCATGCTATCATCGATCGATATCGATGCATCGACTACTAT\"\n",
    "print((sequence[:64]) + sequence[91:])\n",
    "exons = ((sequence[:64]) + (sequence[91:]))"
   ]
  },
  {
   "cell_type": "code",
   "execution_count": 29,
   "metadata": {
    "collapsed": false
   },
   "outputs": [
    {
     "name": "stdout",
     "output_type": "stream",
     "text": [
      "78.04878048780488 percent of the DNA is coding.\n"
     ]
    }
   ],
   "source": [
    "##Splicing Out Introns, part two\n",
    "sequence = \"ATCGATCGATCGATCGACTGACTAGTCATAGCTATGCATGTAGCTACTCGATCGATCGATCGATCGATCGATCGATCGATCGATCATGCTATCATCGATCGATATCGATGCATCGACTACTAT\"\n",
    "coding_percentage = (len(exons)/len(sequence))*100\n",
    "print(str(coding_percentage) + \" percent of the DNA is coding.\")"
   ]
  },
  {
   "cell_type": "code",
   "execution_count": 33,
   "metadata": {
    "collapsed": false
   },
   "outputs": [
    {
     "name": "stdout",
     "output_type": "stream",
     "text": [
      "ATCGATCGATCGATCGACTGACTAGTCATAGCTATGCATGTAGCTACTCGATCGATCGATCGATcgatcgatcgatcgatcgatcatgctaTCATCGATCGATATCGATGCATCGACTACTAT\n"
     ]
    }
   ],
   "source": [
    "##Splicing Out Introns, part three\n",
    "sequence = \"ATCGATCGATCGATCGACTGACTAGTCATAGCTATGCATGTAGCTACTCGATCGATCGATCGATCGATCGATCGATCGATCGATCATGCTATCATCGATCGATATCGATGCATCGACTACTAT\"\n",
    "intron = sequence[64:91]\n",
    "exon_1 = sequence[:64]\n",
    "exon_2 = sequence[91:]\n",
    "print(exon_1 + intron.lower() + exon_2)"
   ]
  },
  {
   "cell_type": "code",
   "execution_count": 69,
   "metadata": {
    "collapsed": false
   },
   "outputs": [
    {
     "name": "stdout",
     "output_type": "stream",
     "text": [
      "ATCGATCGATCGATCGACTGACTAGTCATAGCTATGCATGTAGCTACTCGATCGATCGATCGATTCATCGATCGATATCGATGCATCGACTACTAT\n",
      "\n",
      "CGATCGATCGATCGATCGATCATGCTA\n"
     ]
    }
   ],
   "source": [
    "##Part Two\n",
    "##Splitting Genomic DNA\n",
    "dna_file = open(\"genomic_dna.txt\")\n",
    "my_dna = dna_file.read()\n",
    "\n",
    "exon_1 = my_dna[:64]\n",
    "exon_2 = my_dna[91:]\n",
    "intron = my_dna[64:91]\n",
    "\n",
    "coding_file = open(\"coding_dna.txt\",\"w\")\n",
    "noncoding_file = open(\"noncoding_dna.txt\",\"w\")\n",
    "\n",
    "coding_file.write(exon_1 + exon_2)\n",
    "noncoding_file.write(intron)\n",
    "coding_file = open(\"coding_dna.txt\",\"r\")\n",
    "noncoding_file = open(\"noncoding_dna.txt\",\"r\")\n",
    "print(coding_file.read())\n",
    "print(noncoding_file.read())"
   ]
  },
  {
   "cell_type": "code",
   "execution_count": 68,
   "metadata": {
    "collapsed": false
   },
   "outputs": [
    {
     "name": "stdout",
     "output_type": "stream",
     "text": [
      ">ABC123\n",
      "ATCGTACGATCGATCGATCGCTAGACGTATCG\n",
      ">DEF456\n",
      "ACTGATCGACGATCGATCGATCACGACT\n",
      ">HIJ789\n",
      "ACTGACACTGTACTGTACATGTG\n",
      "\n"
     ]
    }
   ],
   "source": [
    "##Writing a FASTA File\n",
    "header_1 = \"ABC123\"\n",
    "header_2 = \"DEF456\"\n",
    "header_3 = \"HIJ789\"\n",
    "seq_1 = \"ATCGTACGATCGATCGATCGCTAGACGTATCG\"\n",
    "seq_2 = \"actgatcgacgatcgatcgatcacgact\"\n",
    "seq_3 = \"ACTGAC-ACTGT--ACTGTA----CATGTG\"\n",
    "output = open(\"sequences.fasta\",\"w\")\n",
    "output.write('>' + header_1 + '\\n' + seq_1 + \"\\n\")\n",
    "output.write('>' + header_2 + '\\n' + seq_2.upper() + \"\\n\")\n",
    "output.write('>' + header_3 + '\\n' + seq_3.replace('-', '') + \"\\n\")\n",
    "output = open(\"sequences.fasta\",\"r\")\n",
    "print(output.read())\n"
   ]
  },
  {
   "cell_type": "code",
   "execution_count": 93,
   "metadata": {
    "collapsed": false
   },
   "outputs": [
    {
     "name": "stdout",
     "output_type": "stream",
     "text": [
      "processed sequence with length 43\n",
      "processed sequence with length 38\n",
      "processed sequence with length 49\n",
      "processed sequence with length 34\n",
      "processed sequence with length 48\n",
      "TCGATCGATCGATCGATCGATCGATCGATCGATCGATCGATC\n",
      "ACTGATCGATCGATCGATCGATCGATGCTATCGTCGT\n",
      "ATCGATCACGATCTATCGTACGTATGCATATCGATATCGATCGTAGTC\n",
      "ACTATCGATGATCTAGCTACGATCGTAGCTGTA\n",
      "ACTAGCTAGTCTCGATGCATGATCAGCTTAGCTGATGATGCTATGCA\n",
      "\n"
     ]
    }
   ],
   "source": [
    "##Part 3\n",
    "##Processing DNA in a File\n",
    "file = open(\"input.txt\")\n",
    "output = open(\"trimmed.txt\",\"w\")\n",
    "for dna in file:\n",
    "    last_character_position = len(dna)\n",
    "    trimmed_dna = dna[14:last_character_position]\n",
    "    output.write(trimmed_dna)\n",
    "    print(\"processed sequence with length \" + str(len(trimmed_dna)))\n",
    "output.close()\n",
    "\n",
    "output = open(\"trimmed.txt\",\"r\")\n",
    "print(output.read())\n",
    "    \n"
   ]
  },
  {
   "cell_type": "code",
   "execution_count": 98,
   "metadata": {
    "collapsed": false
   },
   "outputs": [
    {
     "name": "stdout",
     "output_type": "stream",
     "text": [
      "TCGATCGATCGACTGACTAGTCATAGCTATGCATGTAGCTACTCGATCGATCGCGATCGATCGATCATGCTATCATCGATCGATATCGATGCATCGACTACTAT\n",
      "\n"
     ]
    }
   ],
   "source": [
    "##Multiple Exons from Genomic DNA\n",
    "genomic_dna = open(\"genomic_dna.txt\").read()\n",
    "exon_locations = open(\"exons.txt\")\n",
    "coding_sequence = \"\"\n",
    "\n",
    "for line in exon_locations:\n",
    "    positions = line.split(',')\n",
    "    start = int(positions[0])\n",
    "    stop = int(positions[1])\n",
    "    exon = genomic_dna[start:stop]\n",
    "    coding_sequence = coding_sequence + exon\n",
    "\n",
    "output = open(\"coding_sequence.txt\", \"w\")\n",
    "output.write(coding_sequence)\n",
    "output.close()\n",
    "output = open(\"coding_sequence.txt\", \"r\")\n",
    "print(output.read())"
   ]
  },
  {
   "cell_type": "code",
   "execution_count": null,
   "metadata": {
    "collapsed": true
   },
   "outputs": [],
   "source": []
  }
 ],
 "metadata": {
  "anaconda-cloud": {},
  "kernelspec": {
   "display_name": "Python [default]",
   "language": "python",
   "name": "python3"
  },
  "language_info": {
   "codemirror_mode": {
    "name": "ipython",
    "version": 3
   },
   "file_extension": ".py",
   "mimetype": "text/x-python",
   "name": "python",
   "nbconvert_exporter": "python",
   "pygments_lexer": "ipython3",
   "version": "3.5.2"
  }
 },
 "nbformat": 4,
 "nbformat_minor": 2
}
